{
 "cells": [
  {
   "cell_type": "code",
   "execution_count": 30,
   "metadata": {},
   "outputs": [],
   "source": [
    "#!/usr/bin/env python\n",
    "\"\"\"\n",
    "Test script to evaluate CUDA acceleration in MARBLE.\n",
    "This script processes EEG data files from a single day (24_08_13)\n",
    "and uses CUDA for dataset construction and processing.\n",
    "\"\"\"\n",
    "\n",
    "import os\n",
    "import time\n",
    "import torch\n",
    "\n",
    "import numpy as np\n",
    "import matplotlib.pyplot as plt\n",
    "import mne\n",
    "import pickle\n",
    "from glob import glob\n",
    "from tqdm import tqdm\n",
    "\n",
    "import MARBLE\n",
    "from MARBLE import postprocessing, plotting, preprocessing,ge\n",
    "\n",
    "params = {\n",
    "        \"epochs\": 50,\n",
    "        \"order\": 1,\n",
    "        \"hidden_channels\": [256],\n",
    "        \"batch_size\": 256,\n",
    "        \"lr\": 1e-3,\n",
    "        \"out_channels\": 3,\n",
    "        \"inner_product_features\": False,\n",
    "        \"emb_norm\": True,\n",
    "        \"diffusion\": True,\n",
    "    }\n"
   ]
  },
  {
   "cell_type": "code",
   "execution_count": 9,
   "metadata": {},
   "outputs": [
    {
     "name": "stderr",
     "output_type": "stream",
     "text": [
      "/tmp/ipykernel_347559/2012446820.py:5: RuntimeWarning: This filename (./preprocessed/bipolar/24_08_13-D_14_36_48_bipolar.fif) does not conform to MNE naming conventions. All raw files should end with raw.fif, raw_sss.fif, raw_tsss.fif, _meg.fif, _eeg.fif, _ieeg.fif, raw.fif.gz, raw_sss.fif.gz, raw_tsss.fif.gz, _meg.fif.gz, _eeg.fif.gz or _ieeg.fif.gz\n",
      "  raw = mne.io.read_raw_fif(file, preload=True, verbose=False)\n"
     ]
    },
    {
     "name": "stdout",
     "output_type": "stream",
     "text": [
      "\n",
      "---- Embedding dimension: 6\n",
      "---- Signal dimension: 6\n",
      "---- Computing kernels ... \n",
      "---- Computing full spectrum ...\n",
      "              (if this takes too long, then run construct_dataset()\n",
      "              with number_of_eigenvectors specified) "
     ]
    }
   ],
   "source": [
    "# Get EEG files from 24_08_13\n",
    "data_dir = \"./preprocessed/bipolar\"\n",
    "files = sorted(glob(os.path.join(data_dir, \"24_08_13*.fif\")))\n",
    "file = files[0]\n",
    "raw = mne.io.read_raw_fif(file, preload=True, verbose=False)\n",
    "current_data = None\n",
    "max_samples = 100000\n",
    "raw = raw.resample(200)\n",
    "\n",
    "file_data = raw.get_data()  # Channels x Time\n",
    "\n",
    "if current_data is None:\n",
    "    current_data = file_data\n",
    "else:\n",
    "    # Concatenate along time dimension (axis=1)\n",
    "    current_data = np.concatenate([current_data, file_data], axis=1)\n",
    "\n",
    "batch_data = current_data[:, :max_samples]\n",
    "current_data = current_data[:, max_samples:]\n",
    "\n",
    "# Normalize and transpose to Time x Channels\n",
    "batch_data = batch_data.T\n",
    "batch_data = (batch_data - batch_data.mean(axis=0)) / batch_data.std(axis=0)\n",
    "\n",
    "# Create position and vector lists\n",
    "pos_list = batch_data[:-1, :]\n",
    "x_list = np.diff(batch_data, axis=0)\n",
    "\n",
    "k_value = 20\n",
    "# Construct dataset\n",
    "Dataset = MARBLE.construct_dataset(\n",
    "    anchor=pos_list, \n",
    "    vector=x_list,\n",
    "    graph_type=\"cknn\",\n",
    "    k=k_value,  \n",
    "    spacing=0.05,\n",
    ")\n",
    "\n",
    "model = MARBLE.net(Dataset, params=params)\n",
    "with tqdm(total=params[\"epochs\"], desc=\"Training model\", unit=\"epoch\") as pbar:\n",
    "    model.fit(Dataset)\n",
    "\n",
    "transformed_data = model.transform(Dataset)\n",
    "transformed_data = postprocessing.embed_in_2D(transformed_data)"
   ]
  },
  {
   "cell_type": "code",
   "execution_count": null,
   "metadata": {},
   "outputs": [],
   "source": []
  }
 ],
 "metadata": {
  "kernelspec": {
   "display_name": "MARBLE",
   "language": "python",
   "name": "python3"
  },
  "language_info": {
   "codemirror_mode": {
    "name": "ipython",
    "version": 3
   },
   "file_extension": ".py",
   "mimetype": "text/x-python",
   "name": "python",
   "nbconvert_exporter": "python",
   "pygments_lexer": "ipython3",
   "version": "3.9.13"
  }
 },
 "nbformat": 4,
 "nbformat_minor": 2
}
