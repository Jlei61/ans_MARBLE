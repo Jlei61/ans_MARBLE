{
 "cells": [
  {
   "cell_type": "code",
   "execution_count": null,
   "metadata": {},
   "outputs": [
    {
     "name": "stderr",
     "output_type": "stream",
     "text": [
      "/home/honglab/leijiaxin/anaconda3/envs/MARBLE/lib/python3.9/site-packages/tqdm/auto.py:22: TqdmWarning: IProgress not found. Please update jupyter and ipywidgets. See https://ipywidgets.readthedocs.io/en/stable/user_install.html\n",
      "  from .autonotebook import tqdm as notebook_tqdm\n",
      "/tmp/ipykernel_295294/2865768023.py:29: RuntimeWarning: This filename (./preprocessed/bipolar/24_08_13-D_14_36_48_bipolar.fif) does not conform to MNE naming conventions. All raw files should end with raw.fif, raw_sss.fif, raw_tsss.fif, _meg.fif, _eeg.fif, _ieeg.fif, raw.fif.gz, raw_sss.fif.gz, raw_tsss.fif.gz, _meg.fif.gz, _eeg.fif.gz or _ieeg.fif.gz\n",
      "  raw = mne.io.read_raw_fif('./preprocessed/bipolar/'+file, preload=True, verbose=False)\n"
     ]
    },
    {
     "name": "stdout",
     "output_type": "stream",
     "text": [
      "Processing segment 0:100000 from file 24_08_13-D_14_36_48_bipolar.fif\n"
     ]
    }
   ],
   "source": [
    "import mne\n",
    "import numpy as np\n",
    "import MARBLE\n",
    "from MARBLE import postprocessing, plotting\n",
    "import matplotlib.pyplot as plt\n",
    "\n",
    "# Parameters\n",
    "segment_length = 100000  # Adjust based on your memory capabilities\n",
    "results = []\n",
    "\n",
    "\n",
    "# Selected files\n",
    "selected_files = [\n",
    "    \"24_08_13-D_14_36_48_bipolar.fif\",\n",
    "    \"24_08_13-D_14_49_45_bipolar.fif\",\n",
    "    # \"24_08_13-D_15_00_00_bipolar.fif\",\n",
    "    # \"24_08_13-D_16_57_44_bipolar.fif\",\n",
    "    # \"24_08_13-D_18_43_55_bipolar.fif\",\n",
    "    # \"24_08_13-D_20_00_00_bipolar.fif\",\n",
    "    # \"24_08_14-D_11_17_03_bipolar.fif\",\n",
    "    # \"24_08_14-D_12_00_00_bipolar.fif\",\n",
    "    # \"24_08_14-D_13_00_00_bipolar.fif\",\n",
    "    # \"24_08_14-D_15_00_00_bipolar.fif\",\n",
    "]\n",
    "\n",
    "# Process each file in segments\n",
    "for file in selected_files:\n",
    "    # Load data\n",
    "    raw = mne.io.read_raw_fif('./preprocessed/bipolar/'+file, preload=True, verbose=False)\n",
    "    data = raw.get_data().T\n",
    "    data = (data - data.mean(axis=0)) / data.std(axis=0)\n",
    "    \n",
    "    # Process in segments\n",
    "    for start_idx in range(0, len(data)-1, segment_length):\n",
    "        end_idx = min(start_idx + segment_length, len(data)-1)\n",
    "        segment_data = data[start_idx:end_idx]\n",
    "        \n",
    "        # Skip segments that are too small\n",
    "        if len(segment_data) < 100:\n",
    "            continue\n",
    "            \n",
    "        print(f\"Processing segment {start_idx}:{end_idx} from file {file}\")\n",
    "        \n",
    "        # Create position and vector lists for this segment\n",
    "        pos_list = [segment_data[:-1, :]]\n",
    "        x_list = [np.diff(segment_data, axis=0)]\n",
    "        \n",
    "        # Construct dataset with appropriate spacing\n",
    "        # Use larger spacing for memory efficiency\n",
    "        segment_dataset = MARBLE.construct_dataset(\n",
    "            anchor=pos_list, \n",
    "            graph_type=\"cknn\",\n",
    "            vector=x_list,\n",
    "            spacing=0.1,  # Increase this value to sample fewer points\n",
    "            memory_efficient=True,\n",
    "        )\n",
    "        \n",
    "        # Train model\n",
    "        params = {\n",
    "            \"epochs\": 50,  # Reduce epochs for faster processing\n",
    "            \"order\": 1,\n",
    "            \"hidden_channels\": [32],  # Smaller network\n",
    "            \"batch_size\": 256,\n",
    "            \"lr\": 1e-4,\n",
    "            \"out_channels\": 3,\n",
    "            \"inner_product_features\": False,\n",
    "            \"emb_norm\": True,\n",
    "            \"diffusion\": True,\n",
    "        }\n",
    "        \n",
    "        # Create and train model\n",
    "        model = MARBLE.net(segment_dataset, params=params)\n",
    "        model.fit(segment_dataset)\n",
    "        \n",
    "        # Transform and process\n",
    "        transformed_data = model.transform(segment_dataset)\n",
    "        transformed_data = postprocessing.embed_in_2D(transformed_data)\n",
    "        transformed_data = postprocessing.cluster(transformed_data, n_clusters=5)\n",
    "        \n",
    "        # Store results\n",
    "        results.append({\n",
    "            'file': file,\n",
    "            'segment': (start_idx, end_idx),\n",
    "            'data': transformed_data,\n",
    "            'model': model\n",
    "        })\n",
    "        \n",
    "        # Optionally save model and visualization\n",
    "        plt.figure(figsize=(10, 8))\n",
    "        plotting.state_space(transformed_data)\n",
    "        plt.savefig(f\"marble_segment_{file}_{start_idx}_{end_idx}.png\")\n",
    "        plt.close()\n"
   ]
  },
  {
   "cell_type": "code",
   "execution_count": 4,
   "metadata": {},
   "outputs": [
    {
     "name": "stdout",
     "output_type": "stream",
     "text": [
      "\n",
      " No umap embedding performed. Embedding seems to be               already in 2D.\n"
     ]
    },
    {
     "name": "stderr",
     "output_type": "stream",
     "text": [
      "/home/honglab/leijiaxin/MARBLE/MARBLE/geometry.py:82: ConvergenceWarning: Number of distinct clusters (2) found smaller than n_clusters (10). Possibly due to duplicate points in X.\n",
      "  kmeans = KMeans(n_clusters=n_clusters, random_state=seed).fit(x)\n"
     ]
    }
   ],
   "source": [
    "data = model.transform(data)\n",
    "# data = postprocessing.distribution_distances(data)\n",
    "data = postprocessing.embed_in_2D(data)\n",
    "data = postprocessing.cluster(data, n_clusters=10)"
   ]
  },
  {
   "cell_type": "code",
   "execution_count": null,
   "metadata": {},
   "outputs": [],
   "source": []
  }
 ],
 "metadata": {
  "kernelspec": {
   "display_name": "MARBLE",
   "language": "python",
   "name": "python3"
  },
  "language_info": {
   "codemirror_mode": {
    "name": "ipython",
    "version": 3
   },
   "file_extension": ".py",
   "mimetype": "text/x-python",
   "name": "python",
   "nbconvert_exporter": "python",
   "pygments_lexer": "ipython3",
   "version": "3.9.13"
  }
 },
 "nbformat": 4,
 "nbformat_minor": 2
}
